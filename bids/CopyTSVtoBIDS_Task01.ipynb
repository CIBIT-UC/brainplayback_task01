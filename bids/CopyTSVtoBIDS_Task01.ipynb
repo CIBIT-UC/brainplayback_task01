{
 "cells": [
  {
   "cell_type": "code",
   "execution_count": 3,
   "metadata": {},
   "outputs": [],
   "source": [
    "import shutil\n",
    "import os"
   ]
  },
  {
   "cell_type": "code",
   "execution_count": 4,
   "metadata": {},
   "outputs": [
    {
     "name": "stdout",
     "output_type": "stream",
     "text": [
      "['sub-01', 'sub-02', 'sub-03', 'sub-04', 'sub-05', 'sub-06', 'sub-07', 'sub-08', 'sub-09', 'sub-10', 'sub-11', 'sub-12', 'sub-13', 'sub-14', 'sub-15', 'sub-16', 'sub-17']\n"
     ]
    }
   ],
   "source": [
    "# create an empty list to store the strings\n",
    "sub_list = []\n",
    "\n",
    "# loop over the range 1 to 18 (exclusive)\n",
    "for i in range(1, 18):\n",
    "    # format the index with leading zeros and add to the list\n",
    "    sub_list.append(f'sub-{i:02}')\n",
    "\n",
    "print(sub_list)"
   ]
  },
  {
   "cell_type": "code",
   "execution_count": 5,
   "metadata": {},
   "outputs": [],
   "source": [
    "# set the source folder path where the tsv files are located\n",
    "src_folder = '/Users/alexandresayal/GitHub/brainplayback_project/stimlog-parser/bids-events-files'\n",
    "\n",
    "# set the destination folder path where the subject-specific folders are located\n",
    "dst_folder = '/Users/alexandresayal/sftp/DATAPOOL/BRAINPLAYBACK/BIDS-BRAINPLAYBACK-TASK1'"
   ]
  },
  {
   "cell_type": "code",
   "execution_count": 6,
   "metadata": {},
   "outputs": [],
   "source": [
    "# loop over the subjects\n",
    "for subject in sub_list:\n",
    "\n",
    "    # subject-specific functional folder\n",
    "    subject_folder = os.path.join(dst_folder, subject, 'ses-01', 'func')\n",
    "\n",
    "    # loop over the 4 specific tsv files for each subject\n",
    "    for i in range(1, 5):\n",
    "\n",
    "        # set the filename of the tsv file\n",
    "        src_filename = f'{subject}_ses-01_task-01c_run-{i}_events.tsv'\n",
    "        dst_filename = f'{subject}_ses-01_task-01_run-{i}_events.tsv'\n",
    "\n",
    "        # set the source and destination file paths\n",
    "        src_file = os.path.join(src_folder, src_filename)\n",
    "        dst_file = os.path.join(subject_folder, dst_filename)\n",
    "        \n",
    "        # copy the file from source to destination folder and rename it\n",
    "        shutil.copy(src_file, dst_file)"
   ]
  }
 ],
 "metadata": {
  "kernelspec": {
   "display_name": "brainplayback",
   "language": "python",
   "name": "python3"
  },
  "language_info": {
   "codemirror_mode": {
    "name": "ipython",
    "version": 3
   },
   "file_extension": ".py",
   "mimetype": "text/x-python",
   "name": "python",
   "nbconvert_exporter": "python",
   "pygments_lexer": "ipython3",
   "version": "3.9.16"
  },
  "orig_nbformat": 4
 },
 "nbformat": 4,
 "nbformat_minor": 2
}
