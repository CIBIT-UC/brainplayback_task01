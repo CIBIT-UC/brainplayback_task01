{
 "cells": [
  {
   "cell_type": "markdown",
   "metadata": {},
   "source": [
    "# Convert psychopy log file to BIDS events.tsv file\n",
    "This is performed run by run."
   ]
  },
  {
   "cell_type": "code",
   "execution_count": 9,
   "id": "f64a27d8",
   "metadata": {},
   "outputs": [],
   "source": [
    "import pandas as pd\n",
    "import numpy as np\n",
    "\n",
    "import os\n",
    "import glob\n",
    "\n",
    "from Psychopy_lib import Psychopy_log_to_BIDS_events_complete"
   ]
  },
  {
   "cell_type": "code",
   "execution_count": 10,
   "id": "50f9a211",
   "metadata": {},
   "outputs": [
    {
     "name": "stdout",
     "output_type": "stream",
     "text": [
      "['../data/logfiles_task01/sub-14_BrainplaybackQuadrants_2023-04-03_13h26.06.750_run-3.csv']\n",
      "sub-14_BrainplaybackQuadrants_2023-04-03_13h26.06.750_run-3.csv\n",
      "Participant:  sub-14\n",
      "Run id:  run-3\n",
      "sub-14_BrainplaybackQuadrants_2023-04-03_13h26.06.750_run-3.csv\n",
      "Participant:  sub-14\n",
      "Run id:  run-3\n",
      " file: ../data/logfiles_task01/sub-14_BrainplaybackQuadrants_2023-04-03_13h26.06.750_run-3.csv\n",
      "Participant (idx), run (idx):  14 03\n"
     ]
    }
   ],
   "source": [
    "# Log file from psychopy.\n",
    "path_search=os.path.join('..',\n",
    "                    'data', \n",
    "                    'logfiles_task01', \n",
    "                    'sub-14*_BrainplaybackQuadrants_*_run-3.csv')\n",
    "\n",
    "log_fn = glob.glob(path_search)\n",
    "\n",
    "print(log_fn)\n",
    "\n",
    "for fn in log_fn:\n",
    "    #create a new lists by parsing the string using \",\" delimiter\n",
    "    head_tail = os.path.split(fn)\n",
    "    print(head_tail[1])\n",
    "\n",
    "    sub_id=head_tail[1].split(\"_\")\n",
    "    print(\"Participant: \",sub_id[0])\n",
    "\n",
    "    run_id=sub_id[-1].split(\".\")\n",
    "    print(\"Run id: \",run_id[0])\n",
    "    \n",
    "    \n",
    "    # run data\n",
    "    sub_id=sub_id[0]\n",
    "    run_id=run_id[0]\n",
    "\n",
    "    # default values\n",
    "    sess_id='01'\n",
    "    task_id='01c'\n",
    "    \n",
    "    bids = Psychopy_log_to_BIDS_events_complete(fn)\n",
    "    \n",
    "    if bids.empty:\n",
    "        print('dictionary is empty')\n",
    "        \n",
    "        \n",
    "    else:\n",
    "        # Create tsv file.\n",
    "        bids_events_fn=f\"{sub_id}_ses-{sess_id}_task-{task_id}_{run_id}_events.tsv\"\n",
    "\n",
    "        bids.to_csv(os.path.join('..','data','bids-events-files',bids_events_fn), sep=\"\\t\", index=False)\n",
    "\n",
    "        \n",
    "    del bids\n",
    "    "
   ]
  }
 ],
 "metadata": {
  "kernelspec": {
   "display_name": "Python 3 (ipykernel)",
   "language": "python",
   "name": "python3"
  },
  "language_info": {
   "codemirror_mode": {
    "name": "ipython",
    "version": 3
   },
   "file_extension": ".py",
   "mimetype": "text/x-python",
   "name": "python",
   "nbconvert_exporter": "python",
   "pygments_lexer": "ipython3",
   "version": "3.9.18"
  }
 },
 "nbformat": 4,
 "nbformat_minor": 5
}
