{
 "cells": [
  {
   "cell_type": "code",
   "execution_count": 4,
   "id": "cbb961c6",
   "metadata": {},
   "outputs": [],
   "source": [
    "import glob\n",
    "import os"
   ]
  },
  {
   "cell_type": "code",
   "execution_count": 9,
   "id": "fcff468e",
   "metadata": {},
   "outputs": [],
   "source": [
    "files = glob.glob(os.path.join('..','data', 'logfiles','sub-sub*.*'))"
   ]
  },
  {
   "cell_type": "code",
   "execution_count": 10,
   "id": "d78c01dd",
   "metadata": {},
   "outputs": [
    {
     "data": {
      "text/plain": [
       "['..\\\\data\\\\logfiles\\\\sub-sub-02_BrainplaybackQuadrants_2023-01-04_16h18.02.699_run-1.log',\n",
       " '..\\\\data\\\\logfiles\\\\sub-sub-02_BrainplaybackQuadrants_2023-01-04_16h18.02.699_run-1.psydat',\n",
       " '..\\\\data\\\\logfiles\\\\sub-sub-02_BrainplaybackQuadrants_2023-01-04_16h19.12.938_run-1.csv',\n",
       " '..\\\\data\\\\logfiles\\\\sub-sub-02_BrainplaybackQuadrants_2023-01-04_16h19.12.938_run-1.log',\n",
       " '..\\\\data\\\\logfiles\\\\sub-sub-02_BrainplaybackQuadrants_2023-01-04_16h19.12.938_run-1.psydat',\n",
       " '..\\\\data\\\\logfiles\\\\sub-sub-02_BrainplaybackQuadrants_2023-01-04_16h19.12.938_run-1.xlsx',\n",
       " '..\\\\data\\\\logfiles\\\\sub-sub-02_BrainplaybackQuadrants_2023-01-04_16h19.12.938_run-1blocks.csv',\n",
       " '..\\\\data\\\\logfiles\\\\sub-sub-02_BrainplaybackQuadrants_2023-01-04_16h19.12.938_run-1trials.csv',\n",
       " '..\\\\data\\\\logfiles\\\\sub-sub-02_BrainplaybackQuadrants_2023-01-04_16h19.12.938_run-1trialsMusics.csv',\n",
       " '..\\\\data\\\\logfiles\\\\sub-sub-02_BrainplaybackQuadrants_2023-01-04_16h30.37.219_run-2.csv',\n",
       " '..\\\\data\\\\logfiles\\\\sub-sub-02_BrainplaybackQuadrants_2023-01-04_16h30.37.219_run-2.log',\n",
       " '..\\\\data\\\\logfiles\\\\sub-sub-02_BrainplaybackQuadrants_2023-01-04_16h30.37.219_run-2.psydat',\n",
       " '..\\\\data\\\\logfiles\\\\sub-sub-02_BrainplaybackQuadrants_2023-01-04_16h30.37.219_run-2.xlsx',\n",
       " '..\\\\data\\\\logfiles\\\\sub-sub-02_BrainplaybackQuadrants_2023-01-04_16h30.37.219_run-2blocks.csv',\n",
       " '..\\\\data\\\\logfiles\\\\sub-sub-02_BrainplaybackQuadrants_2023-01-04_16h30.37.219_run-2trials.csv',\n",
       " '..\\\\data\\\\logfiles\\\\sub-sub-02_BrainplaybackQuadrants_2023-01-04_16h30.37.219_run-2trialsMusics.csv',\n",
       " '..\\\\data\\\\logfiles\\\\sub-sub-02_BrainplaybackQuadrants_2023-01-04_16h41.59.436_run-3.csv',\n",
       " '..\\\\data\\\\logfiles\\\\sub-sub-02_BrainplaybackQuadrants_2023-01-04_16h41.59.436_run-3.log',\n",
       " '..\\\\data\\\\logfiles\\\\sub-sub-02_BrainplaybackQuadrants_2023-01-04_16h41.59.436_run-3.psydat',\n",
       " '..\\\\data\\\\logfiles\\\\sub-sub-02_BrainplaybackQuadrants_2023-01-04_16h41.59.436_run-3.xlsx',\n",
       " '..\\\\data\\\\logfiles\\\\sub-sub-02_BrainplaybackQuadrants_2023-01-04_16h41.59.436_run-3blocks.csv',\n",
       " '..\\\\data\\\\logfiles\\\\sub-sub-02_BrainplaybackQuadrants_2023-01-04_16h41.59.436_run-3trials.csv',\n",
       " '..\\\\data\\\\logfiles\\\\sub-sub-02_BrainplaybackQuadrants_2023-01-04_16h41.59.436_run-3trialsMusics.csv',\n",
       " '..\\\\data\\\\logfiles\\\\sub-sub-02_BrainplaybackQuadrants_2023-01-04_16h52.48.419_run-4.csv',\n",
       " '..\\\\data\\\\logfiles\\\\sub-sub-02_BrainplaybackQuadrants_2023-01-04_16h52.48.419_run-4.log',\n",
       " '..\\\\data\\\\logfiles\\\\sub-sub-02_BrainplaybackQuadrants_2023-01-04_16h52.48.419_run-4.psydat',\n",
       " '..\\\\data\\\\logfiles\\\\sub-sub-02_BrainplaybackQuadrants_2023-01-04_16h52.48.419_run-4.xlsx',\n",
       " '..\\\\data\\\\logfiles\\\\sub-sub-02_BrainplaybackQuadrants_2023-01-04_16h52.48.419_run-4blocks.csv',\n",
       " '..\\\\data\\\\logfiles\\\\sub-sub-02_BrainplaybackQuadrants_2023-01-04_16h52.48.419_run-4trials.csv',\n",
       " '..\\\\data\\\\logfiles\\\\sub-sub-02_BrainplaybackQuadrants_2023-01-04_16h52.48.419_run-4trialsMusics.csv']"
      ]
     },
     "execution_count": 10,
     "metadata": {},
     "output_type": "execute_result"
    }
   ],
   "source": [
    "files"
   ]
  },
  {
   "cell_type": "code",
   "execution_count": 12,
   "id": "85d6e7dd",
   "metadata": {},
   "outputs": [],
   "source": [
    "\n",
    "\n",
    "for file in files:\n",
    "    os.rename(file, file.replace('sub-sub', 'sub'))\n",
    "    "
   ]
  }
 ],
 "metadata": {
  "kernelspec": {
   "display_name": "Python 3 (ipykernel)",
   "language": "python",
   "name": "python3"
  },
  "language_info": {
   "codemirror_mode": {
    "name": "ipython",
    "version": 3
   },
   "file_extension": ".py",
   "mimetype": "text/x-python",
   "name": "python",
   "nbconvert_exporter": "python",
   "pygments_lexer": "ipython3",
   "version": "3.9.15"
  }
 },
 "nbformat": 4,
 "nbformat_minor": 5
}
