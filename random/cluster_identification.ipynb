{
 "cells": [
  {
   "cell_type": "code",
   "execution_count": 1,
   "metadata": {},
   "outputs": [],
   "source": [
    "import nilearn.plotting as plotting\n",
    "\n",
    "from nilearn.reporting import get_clusters_table\n",
    "\n",
    "from src import mnitools"
   ]
  },
  {
   "cell_type": "code",
   "execution_count": null,
   "metadata": {},
   "outputs": [],
   "source": [
    "# Load image\n",
    "img = \n",
    "\n",
    "\n",
    "table = get_clusters_table(img, stat_threshold=0, cluster_threshold=10, min_distance=8)\n",
    "\n",
    "\n",
    "# create new dataframe with cluster table and add column for AAL structure\n",
    "df = pd.DataFrame(table)\n",
    "\n",
    "df['structure'] = 'NA'\n"
   ]
  },
  {
   "cell_type": "code",
   "execution_count": null,
   "metadata": {},
   "outputs": [],
   "source": [
    "df.head()"
   ]
  },
  {
   "cell_type": "code",
   "execution_count": null,
   "metadata": {},
   "outputs": [],
   "source": [
    "# Get rows for cols X, Y and Z from table\n",
    "table[['X', 'Y', 'Z']]\n",
    "\n",
    "# Iterate over rows in table\n",
    "for index, row in table.iterrows():\n",
    "    \n",
    "    # print(mnitools.find_structure([row['X'], row['Y'], row['Z']]))\n",
    "\n",
    "    # add AAL structure to dataframe\n",
    "    _, tab_ = mnitools.find_structure([row['X'], row['Y'], row['Z']])\n",
    "    aal_s = tab_[-1][-1]\n",
    "    df.loc[index, 'structure'] = aal_s"
   ]
  },
  {
   "cell_type": "code",
   "execution_count": null,
   "metadata": {},
   "outputs": [],
   "source": [
    "df.head()"
   ]
  }
 ],
 "metadata": {
  "kernelspec": {
   "display_name": "brainplayback",
   "language": "python",
   "name": "python3"
  },
  "language_info": {
   "codemirror_mode": {
    "name": "ipython",
    "version": 3
   },
   "file_extension": ".py",
   "mimetype": "text/x-python",
   "name": "python",
   "nbconvert_exporter": "python",
   "pygments_lexer": "ipython3",
   "version": "3.9.18"
  }
 },
 "nbformat": 4,
 "nbformat_minor": 2
}
