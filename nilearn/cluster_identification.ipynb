{
 "cells": [
  {
   "cell_type": "code",
   "execution_count": null,
   "metadata": {},
   "outputs": [],
   "source": [
    "import nilearn.plotting as plotting\n",
    "\n",
    "from nilearn.reporting import get_clusters_table\n",
    "\n",
    "from src import mnitools"
   ]
  },
  {
   "cell_type": "code",
   "execution_count": null,
   "metadata": {},
   "outputs": [],
   "source": [
    "# Load image\n",
    "img = \n",
    "\n",
    "\n",
    "table = get_clusters_table(img, stat_threshold=0, cluster_threshold=10, min_distance=8)\n",
    "\n",
    "\n",
    "# create new dataframe with cluster table and add column for AAL structure\n",
    "df = pd.DataFrame(table)\n",
    "\n",
    "df['structure'] = 'NA'\n"
   ]
  },
  {
   "cell_type": "code",
   "execution_count": null,
   "metadata": {},
   "outputs": [],
   "source": [
    "df.head()"
   ]
  },
  {
   "cell_type": "code",
   "execution_count": null,
   "metadata": {},
   "outputs": [],
   "source": [
    "# Get rows for cols X, Y and Z from table\n",
    "table[['X', 'Y', 'Z']]\n",
    "\n",
    "# Iterate over rows in table\n",
    "for index, row in table.iterrows():\n",
    "    \n",
    "    # print(mnitools.find_structure([row['X'], row['Y'], row['Z']]))\n",
    "\n",
    "    # add AAL structure to dataframe\n",
    "    _, tab_ = mnitools.find_structure([row['X'], row['Y'], row['Z']])\n",
    "    aal_s = tab_[-1][-1]\n",
    "    df.loc[index, 'structure'] = aal_s"
   ]
  },
  {
   "cell_type": "code",
   "execution_count": null,
   "metadata": {},
   "outputs": [],
   "source": [
    "df.head()"
   ]
  }
 ],
 "metadata": {
  "language_info": {
   "name": "python"
  }
 },
 "nbformat": 4,
 "nbformat_minor": 2
}
